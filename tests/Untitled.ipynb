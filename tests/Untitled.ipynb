{
 "cells": [
  {
   "cell_type": "code",
   "execution_count": 1,
   "id": "dea6dd24-7ff4-4b74-b0c4-70cb3d589bc6",
   "metadata": {},
   "outputs": [],
   "source": [
    "import itertools"
   ]
  },
  {
   "cell_type": "code",
   "execution_count": 3,
   "id": "081f5ba5-76d8-41b8-87ac-93122386db73",
   "metadata": {},
   "outputs": [
    {
     "data": {
      "text/plain": [
       "{(1, 2), (1, 3), (2, 1), (2, 3), (3, 1), (3, 2)}"
      ]
     },
     "execution_count": 3,
     "metadata": {},
     "output_type": "execute_result"
    }
   ],
   "source": [
    "set(itertools.permutations([1,2,3],2))"
   ]
  },
  {
   "cell_type": "code",
   "execution_count": 4,
   "id": "a966d517-46cc-4ab9-a5e4-b9369dc44930",
   "metadata": {},
   "outputs": [
    {
     "data": {
      "text/plain": [
       "'/Users/agpe/Documents/code/python/hobohm/tests'"
      ]
     },
     "execution_count": 4,
     "metadata": {},
     "output_type": "execute_result"
    }
   ],
   "source": [
    "pwd"
   ]
  },
  {
   "cell_type": "code",
   "execution_count": 5,
   "id": "492eb518-2eae-451b-8505-398e5946531e",
   "metadata": {},
   "outputs": [
    {
     "name": "stdout",
     "output_type": "stream",
     "text": [
      "total 187360\n",
      "-rw-r--r--  1 agpe  staff      1225 Nov 29 08:15 Untitled.ipynb\n",
      "-rw-r--r--@ 1 agpe  staff       188 Sep 13 15:40 hobohm_randdata.py\n",
      "-rw-r--r--@ 1 agpe  staff         4 Sep 19 13:11 k\n",
      "-rw-r--r--@ 1 agpe  staff  31884268 Nov 29 07:10 pairwise_distances.txt\n",
      "-rw-r--r--@ 1 agpe  staff  31884272 Nov 29 08:25 pairwise_distances_distdiscrepancy.txt\n",
      "-rw-r--r--@ 1 agpe  staff  31884148 Nov 29 08:23 pairwise_distances_missingpairs.txt\n",
      "-rw-r--r--@ 1 agpe  staff    211782 Sep 19 16:28 x\n",
      "-rw-r--r--@ 1 agpe  staff       258 Sep 19 13:04 x2\n",
      "-rw-r--r--@ 1 agpe  staff        87 Sep 19 14:02 y\n",
      "-rw-r--r--@ 1 agpe  staff      1089 Sep 19 12:53 y1\n",
      "-rw-r--r--@ 1 agpe  staff      1089 Sep 19 12:53 y2\n",
      "-rw-r--r--@ 1 agpe  staff      1089 Sep 19 12:51 y3\n",
      "-rw-r--r--@ 1 agpe  staff       307 Sep 19 16:28 y4\n",
      "-rw-r--r--@ 1 agpe  staff       966 Sep 15 16:50 yold\n",
      "-rw-r--r--@ 1 agpe  staff       948 Sep 15 16:52 yold2\n",
      "-rw-r--r--@ 1 agpe  staff       965 Sep 15 16:56 ys\n",
      "-rw-r--r--@ 1 agpe  staff       967 Sep 15 16:56 ys2\n"
     ]
    }
   ],
   "source": [
    "ll"
   ]
  },
  {
   "cell_type": "code",
   "execution_count": null,
   "id": "57b89c1a-2a0b-4c52-a759-3a322f02924e",
   "metadata": {},
   "outputs": [],
   "source": [
    "dist = {}\n",
    "with open(\"pairwise_distances.txt\") as infile:\n",
    "    for line in infile:\n",
    "        n1,n2,d = line.split()\n",
    "        d = float(d)\n",
    "        "
   ]
  }
 ],
 "metadata": {
  "kernelspec": {
   "display_name": "Python 3 (ipykernel)",
   "language": "python",
   "name": "python3"
  },
  "language_info": {
   "codemirror_mode": {
    "name": "ipython",
    "version": 3
   },
   "file_extension": ".py",
   "mimetype": "text/x-python",
   "name": "python",
   "nbconvert_exporter": "python",
   "pygments_lexer": "ipython3",
   "version": "3.10.6"
  }
 },
 "nbformat": 4,
 "nbformat_minor": 5
}
